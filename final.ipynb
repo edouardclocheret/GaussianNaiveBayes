{
 "cells": [
  {
   "cell_type": "markdown",
   "metadata": {},
   "source": [
    "# Model"
   ]
  },
  {
   "cell_type": "code",
   "execution_count": null,
   "metadata": {},
   "outputs": [],
   "source": [
    "class GaussNaiveBayes :\n",
    "    \"\"\" Gaussian Naive Bayes model for multiclass classification\n",
    "    \n",
    "    @attrs:\n",
    "        n_classes:    the number of classes\n",
    "        feature_dist:    a 3D (n_classes x n_features x 2) NumPy array of the attribute distributions: mean and sigma2 for each features for each class\n",
    "                        \n",
    "                        ex : [[[mu, sigma2],   of feature 1\n",
    "                               [mu, sigma2],   of feature 2\n",
    "                               [mu, sigma2]],  of feature 3 of class 1\n",
    "                               \n",
    "                               [[mu, sigma2],  of feature 1\n",
    "                               [mu, sigma2],   of feature 2\n",
    "                               [mu, sigma2]]]  of feature 3 of class 2\n",
    "\n",
    "        label_priors: a 1D NumPy array of the priors distribution\n",
    "\n",
    "                        ex : [p_class1, p_class2, p_class3]\n",
    "    \"\"\"\n",
    "    def __init__ (self):\n",
    "        self.n_classes = None # computed at training\n",
    "        self.feature_dist = None\n",
    "        self.label_priors = None\n",
    "\n",
    "\n",
    "    def train(self, X_train, y_train):\n",
    "        \"\"\" Trains the model, using maximum likelihood estimation.\n",
    "        @params:\n",
    "            X_train: a 2D (n_examples x n_features) numpy array\n",
    "            y_train: a 1D (n_examples) numpy array of the corresponding labels\n",
    "        @return:\n",
    "            a tuple consisting of:\n",
    "                1) a 2D numpy array of the attribute distributions\n",
    "                2) a 1D numpy array of the priors distribution\n",
    "        \"\"\"\n",
    "        self.n_classes = len(set(y_train))\n",
    "\n",
    "        # We'll perform Laplace smoothing on the two probabilities distributions :\n",
    "        # -> no zero mean?? and no zero variance\n",
    "\n",
    "\n",
    "    def predict(self, X_test):\n",
    "        # use log probabilities\n",
    "        pass"
   ]
  }
 ],
 "metadata": {
  "kernelspec": {
   "display_name": "data2060",
   "language": "python",
   "name": "python3"
  },
  "language_info": {
   "name": "python",
   "version": "3.12.5"
  }
 },
 "nbformat": 4,
 "nbformat_minor": 2
}
